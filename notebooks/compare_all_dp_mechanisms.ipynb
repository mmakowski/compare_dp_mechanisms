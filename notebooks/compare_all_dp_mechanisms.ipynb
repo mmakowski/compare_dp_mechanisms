{
 "cells": [
  {
   "cell_type": "markdown",
   "metadata": {},
   "source": [
    "Compare all differentially private mechanisms. The results are at the end of the page."
   ]
  },
  {
   "cell_type": "code",
   "execution_count": 6,
   "metadata": {},
   "outputs": [],
   "source": [
    "import sys, os, time\n",
    "import subprocess, shlex\n",
    "import matplotlib.pyplot as plt     # matplotlib - plots\n",
    "from IPython.utils import io\n",
    "import numpy as np"
   ]
  },
  {
   "cell_type": "code",
   "execution_count": 2,
   "metadata": {},
   "outputs": [],
   "source": [
    "class Dummy(dict):\n",
    "    pass"
   ]
  },
  {
   "cell_type": "code",
   "execution_count": 3,
   "metadata": {},
   "outputs": [],
   "source": [
    "CASE_FILE = '../example/case_genotypes.dat'\n",
    "CONTROL_FILE = '../example/anticase_genotypes.dat'\n",
    "SNP_TABLE_FILE = '../table.tmp'\n",
    "JS_DISTANCE_FILE = '../js_distance.tmp'\n",
    "CHISQUARE_FILE = '../chisquare.tmp'"
   ]
  },
  {
   "cell_type": "markdown",
   "metadata": {},
   "source": [
    "Convert raw files to genotype tables."
   ]
  },
  {
   "cell_type": "code",
   "execution_count": 4,
   "metadata": {},
   "outputs": [
    {
     "data": {
      "text/plain": [
       "0"
      ]
     },
     "execution_count": 4,
     "metadata": {},
     "output_type": "execute_result"
    }
   ],
   "source": [
    "subprocess.check_call(\"python raw_to_geno_table.py {case_file} {control_file} {outfile}\".format(case_file=CASE_FILE, control_file=CONTROL_FILE, outfile=SNP_TABLE_FILE), shell=True)"
   ]
  },
  {
   "cell_type": "markdown",
   "metadata": {},
   "source": [
    "Set common parameters."
   ]
  },
  {
   "cell_type": "code",
   "execution_count": 7,
   "metadata": {},
   "outputs": [],
   "source": [
    "PARAMS = Dummy()\n",
    "PARAMS.NN_case = 1000  # number of cases\n",
    "PARAMS.NN_control = 1000  # number of controls\n",
    "PARAMS.MM_vec = np.array([1, 2, 3, 10])\n",
    "# PARAMS.epsilon_vec = np.concatenate((np.arange(1, 20, 5), \n",
    "#                                      np.arange(21, 1522, 100)))\n",
    "PARAMS.epsilon_vec = np.arange(1, 1522, 300)\n",
    "PARAMS.NN_perturb = 20\n",
    "# PARAMS.sig_level_vec = np.array([0.1, 0.05, 0.01])\n",
    "PARAMS.sig_level_vec = np.array([0.1, 0.05])"
   ]
  },
  {
   "cell_type": "code",
   "execution_count": 8,
   "metadata": {},
   "outputs": [],
   "source": [
    "perturb_result_dict = {}  # store the perturbation results"
   ]
  },
  {
   "cell_type": "markdown",
   "metadata": {},
   "source": [
    "## Johnson & Shmatikov method"
   ]
  },
  {
   "cell_type": "markdown",
   "metadata": {},
   "source": [
    "Count the number of SNPs."
   ]
  },
  {
   "cell_type": "code",
   "execution_count": 9,
   "metadata": {},
   "outputs": [],
   "source": [
    "snp_num = 0\n",
    "with open(SNP_TABLE_FILE, 'r') as infile:\n",
    "    for line in infile:\n",
    "        snp_num += 1"
   ]
  },
  {
   "cell_type": "markdown",
   "metadata": {},
   "source": [
    "Do perturbation and collect results."
   ]
  },
  {
   "cell_type": "code",
   "execution_count": 13,
   "metadata": {},
   "outputs": [
    {
     "name": "stdout",
     "output_type": "stream",
     "text": [
      "sig_level=0.1\n",
      "\tMM=1\n",
      "\t\tepsilon=1\n",
      "\t\tepsilon=301\n",
      "\t\tepsilon=601\n",
      "\t\tepsilon=901\n",
      "\t\tepsilon=1201\n",
      "\t\tepsilon=1501\n",
      "\tMM=2\n",
      "\t\tepsilon=1\n",
      "\t\tepsilon=301\n",
      "\t\tepsilon=601\n",
      "\t\tepsilon=901\n",
      "\t\tepsilon=1201\n",
      "\t\tepsilon=1501\n",
      "\tMM=3\n",
      "\t\tepsilon=1\n",
      "\t\tepsilon=301\n",
      "\t\tepsilon=601\n",
      "\t\tepsilon=901\n",
      "\t\tepsilon=1201\n",
      "\t\tepsilon=1501\n",
      "\tMM=10\n",
      "\t\tepsilon=1\n",
      "\t\tepsilon=301\n",
      "\t\tepsilon=601\n",
      "\t\tepsilon=901\n",
      "\t\tepsilon=1201\n",
      "\t\tepsilon=1501\n",
      "sig_level=0.05\n",
      "\tMM=1\n",
      "\t\tepsilon=1\n",
      "\t\tepsilon=301\n",
      "\t\tepsilon=601\n",
      "\t\tepsilon=901\n",
      "\t\tepsilon=1201\n",
      "\t\tepsilon=1501\n",
      "\tMM=2\n",
      "\t\tepsilon=1\n",
      "\t\tepsilon=301\n",
      "\t\tepsilon=601\n",
      "\t\tepsilon=901\n",
      "\t\tepsilon=1201\n",
      "\t\tepsilon=1501\n",
      "\tMM=3\n",
      "\t\tepsilon=1\n",
      "\t\tepsilon=301\n",
      "\t\tepsilon=601\n",
      "\t\tepsilon=901\n",
      "\t\tepsilon=1201\n",
      "\t\tepsilon=1501\n",
      "\tMM=10\n",
      "\t\tepsilon=1\n",
      "\t\tepsilon=301\n",
      "\t\tepsilon=601\n",
      "\t\tepsilon=901\n",
      "\t\tepsilon=1201\n",
      "\t\tepsilon=1501\n",
      "Time spent: 6.16 minutes.\n",
      "\n"
     ]
    }
   ],
   "source": [
    "start_time = time.time()\n",
    "sensitivity = 1\n",
    "\n",
    "perturb_result = {}\n",
    "for sig_level in PARAMS.sig_level_vec:\n",
    "    print(\"sig_level={}\".format(sig_level))\n",
    "    pval = sig_level / snp_num\n",
    "    subprocess.check_call(shlex.split(\"python write_JS_distance.py -p {pval} {infile} {outfile}\".format(infile=SNP_TABLE_FILE, outfile=JS_DISTANCE_FILE, pval=sig_level)))\n",
    "    perturb_result[sig_level] = {}\n",
    "    for MM in PARAMS.MM_vec:\n",
    "        print(\"\\tMM={}\".format(MM))\n",
    "        perturb_result[sig_level][MM] = {}\n",
    "        for epsilon in PARAMS.epsilon_vec:\n",
    "            print(\"\\t\\tepsilon={}\".format(epsilon))\n",
    "            perturbation = []\n",
    "            for ii in range(PARAMS.NN_perturb):\n",
    "                proc = subprocess.Popen(shlex.split('python get_JS_results.py {k} {e} {infile}'.format(k=MM, e=epsilon, infile=JS_DISTANCE_FILE)), stdout=subprocess.PIPE)\n",
    "                perturbation.append(proc.communicate()[0].split())\n",
    "            perturb_result[sig_level][MM][epsilon] = perturbation\n",
    "\n",
    "perturb_result_dict['JS'] = perturb_result\n",
    "print('Time spent: {} minutes.\\n'.format(round((time.time() - start_time) / 60, 2)))"
   ]
  },
  {
   "cell_type": "markdown",
   "metadata": {},
   "source": [
    "## Exponential and Laplace Mechanism"
   ]
  },
  {
   "cell_type": "markdown",
   "metadata": {},
   "source": [
    "Write file of $\\chi^2$-statistics,"
   ]
  },
  {
   "cell_type": "code",
   "execution_count": 9,
   "metadata": {},
   "outputs": [
    {
     "data": {
      "text/plain": [
       "0"
      ]
     },
     "execution_count": 9,
     "metadata": {},
     "output_type": "execute_result"
    }
   ],
   "source": [
    "subprocess.check_call(shlex.split(\"python write_chisquare.py {infile} {outfile}\".format(infile=SNP_TABLE_FILE, outfile=CHISQUARE_FILE)))"
   ]
  },
  {
   "cell_type": "markdown",
   "metadata": {},
   "source": [
    "Exponential mechanism"
   ]
  },
  {
   "cell_type": "code",
   "execution_count": 10,
   "metadata": {},
   "outputs": [
    {
     "name": "stdout",
     "output_type": "stream",
     "text": [
      "\tMM=1\n",
      "\t\tepsilon=1\n",
      "\t\tepsilon=301\n",
      "\t\tepsilon=601\n",
      "\t\tepsilon=901\n",
      "\t\tepsilon=1201\n",
      "\t\tepsilon=1501\n",
      "\tMM=2\n",
      "\t\tepsilon=1\n",
      "\t\tepsilon=301\n",
      "\t\tepsilon=601\n",
      "\t\tepsilon=901\n",
      "\t\tepsilon=1201\n",
      "\t\tepsilon=1501\n",
      "\tMM=3\n",
      "\t\tepsilon=1\n",
      "\t\tepsilon=301\n",
      "\t\tepsilon=601\n",
      "\t\tepsilon=901\n",
      "\t\tepsilon=1201\n",
      "\t\tepsilon=1501\n",
      "\tMM=10\n",
      "\t\tepsilon=1\n",
      "\t\tepsilon=301\n",
      "\t\tepsilon=601\n",
      "\t\tepsilon=901\n",
      "\t\tepsilon=1201\n",
      "\t\tepsilon=1501\n",
      "Time spent: 1.43 minutes.\n",
      "\n"
     ]
    }
   ],
   "source": [
    "start_time = time.time()\n",
    "## perturb\n",
    "perturb_result_no_sigLevel = {}\n",
    "for MM in PARAMS.MM_vec:\n",
    "    print(\"\\tMM={}\".format(MM))\n",
    "    perturb_result_no_sigLevel[MM] = {}\n",
    "    for epsilon in PARAMS.epsilon_vec:\n",
    "        print(\"\\t\\tepsilon={}\".format(epsilon))\n",
    "        perturbation = []\n",
    "        for ii in xrange(PARAMS.NN_perturb):\n",
    "            proc = subprocess.Popen(shlex.split('python get_expo_results.py {k} {e} {n_case} {n_control} {infile}'.format(k=MM, e=epsilon, n_case=PARAMS.NN_case, n_control=PARAMS.NN_control, infile=CHISQUARE_FILE)), stdout=subprocess.PIPE)\n",
    "            perturbation.append(proc.communicate()[0].split())\n",
    "        perturb_result_no_sigLevel[MM][epsilon] = perturbation\n",
    "\n",
    "perturb_result = {}\n",
    "for sig_level in PARAMS.sig_level_vec:\n",
    "    perturb_result[sig_level] = perturb_result_no_sigLevel\n",
    "\n",
    "perturb_result_dict['Exponential'] = perturb_result\n",
    "print('Time spent: {} minutes.\\n'.format(round((time.time() - start_time) / 60, 2)))"
   ]
  },
  {
   "cell_type": "markdown",
   "metadata": {},
   "source": [
    "Laplace Mechanism."
   ]
  },
  {
   "cell_type": "code",
   "execution_count": 11,
   "metadata": {},
   "outputs": [
    {
     "name": "stdout",
     "output_type": "stream",
     "text": [
      "\tMM=1\n",
      "\t\tepsilon=1\n",
      "\t\tepsilon=301\n",
      "\t\tepsilon=601\n",
      "\t\tepsilon=901\n",
      "\t\tepsilon=1201\n",
      "\t\tepsilon=1501\n",
      "\tMM=2\n",
      "\t\tepsilon=1\n",
      "\t\tepsilon=301\n",
      "\t\tepsilon=601\n",
      "\t\tepsilon=901\n",
      "\t\tepsilon=1201\n",
      "\t\tepsilon=1501\n",
      "\tMM=3\n",
      "\t\tepsilon=1\n",
      "\t\tepsilon=301\n",
      "\t\tepsilon=601\n",
      "\t\tepsilon=901\n",
      "\t\tepsilon=1201\n",
      "\t\tepsilon=1501\n",
      "\tMM=10\n",
      "\t\tepsilon=1\n",
      "\t\tepsilon=301\n",
      "\t\tepsilon=601\n",
      "\t\tepsilon=901\n",
      "\t\tepsilon=1201\n",
      "\t\tepsilon=1501\n",
      "Time spent: 0.93 minutes.\n",
      "\n"
     ]
    }
   ],
   "source": [
    "start_time = time.time()\n",
    "## perturb\n",
    "perturb_result_no_sigLevel = {}\n",
    "for MM in PARAMS.MM_vec:\n",
    "    print(\"\\tMM={}\".format(MM))\n",
    "    perturb_result_no_sigLevel[MM] = {}\n",
    "    for epsilon in PARAMS.epsilon_vec:\n",
    "        print(\"\\t\\tepsilon={}\".format(epsilon))\n",
    "        perturbation = []\n",
    "        for ii in xrange(PARAMS.NN_perturb):\n",
    "            proc = subprocess.Popen(shlex.split('python get_laplace_results.py {k} {e} {n_case} {n_control} {infile}'.format(k=MM, e=epsilon, n_case=PARAMS.NN_case, n_control=PARAMS.NN_control, infile=CHISQUARE_FILE)), stdout=subprocess.PIPE)\n",
    "            perturbation.append(proc.communicate()[0].split())\n",
    "        perturb_result_no_sigLevel[MM][epsilon] = perturbation\n",
    "\n",
    "perturb_result = {}\n",
    "for sig_level in PARAMS.sig_level_vec:\n",
    "    perturb_result[sig_level] = perturb_result_no_sigLevel\n",
    "\n",
    "perturb_result_dict['Laplace'] = perturb_result\n",
    "print('Time spent: {} minutes.\\n'.format(round((time.time() - start_time) / 60, 2)))"
   ]
  },
  {
   "cell_type": "markdown",
   "metadata": {},
   "source": [
    "# Analysis"
   ]
  },
  {
   "cell_type": "markdown",
   "metadata": {},
   "source": [
    "## Get the average number of SNPs recovered"
   ]
  },
  {
   "cell_type": "markdown",
   "metadata": {},
   "source": [
    "Get the $\\chi^2$-statistics."
   ]
  },
  {
   "cell_type": "code",
   "execution_count": 14,
   "metadata": {},
   "outputs": [],
   "source": [
    "name_score_tuples = []\n",
    "with open(CHISQUARE_FILE, 'r') as infile:\n",
    "    # skip header line\n",
    "    garbage = infile.readline()\n",
    "    for line in infile:\n",
    "        name, score = line.split()\n",
    "        name_score_tuples.append((name, float(score)))\n",
    "\n",
    "name_score_dict = dict(name_score_tuples)\n",
    "snp_scores = np.array([ss for name, ss in name_score_tuples])"
   ]
  },
  {
   "cell_type": "code",
   "execution_count": 16,
   "metadata": {},
   "outputs": [],
   "source": [
    "perturb_result_utility = {}\n",
    "for method in perturb_result_dict:\n",
    "    perturb_result_utility[method] = {}\n",
    "    for sig_level in perturb_result_dict[method]:\n",
    "        perturb_result_utility[method][sig_level] = {}\n",
    "        for MM in perturb_result_dict[method][sig_level]:\n",
    "            perturb_result_utility[method][sig_level][MM] = {}\n",
    "            for epsilon in perturb_result_dict[method][sig_level][MM]:\n",
    "                M_highest_score = np.sort(snp_scores)[::-1][MM-1]\n",
    "#                 full_top_snp_set = [name_score_tuples[ii][0] for ii in np.argsort(snp_scores)[::-1][:MM]]\n",
    "#                 full_top_snp_set += [nn for nn, ss in name_score_tuples if ss >= M_highest_score]\n",
    "#                 full_top_snp_set = set(full_top_snp_set)\n",
    "                perturbed_snp_scores = [np.array(list(map(name_score_dict.get, vec))) \n",
    "                                        for vec in perturb_result_dict[method][sig_level][MM][epsilon]]\n",
    "                snps_recovered = list(map(lambda vec: np.sum(vec >= M_highest_score), perturbed_snp_scores))\n",
    "                perturb_result_utility[method][sig_level][MM][epsilon] = 1. * np.mean(snps_recovered) / MM\n"
   ]
  },
  {
   "cell_type": "markdown",
   "metadata": {},
   "source": [
    "## Make some plots"
   ]
  },
  {
   "cell_type": "code",
   "execution_count": 18,
   "metadata": {},
   "outputs": [],
   "source": [
    "## make plots bigger\n",
    "import matplotlib\n",
    "#matplotlib.rcParams['savefig.dpi'] = 1.5 * matplotlib.rcParams['savefig.dpi']"
   ]
  },
  {
   "cell_type": "code",
   "execution_count": 24,
   "metadata": {},
   "outputs": [],
   "source": [
    "MY_COLORS = [\"#999999\", \"#E69F00\", \"#56B4E9\", \"#009E73\", \"#F0E442\", \"#0072B2\", \"#D55E00\", \"#CC79A7\"]\n",
    "import matplotlib.lines as lines\n",
    "MARKERS = lines.Line2D.filled_markers\n",
    "# MARKERS = ['v', r'$\\Omega$', r'o']\n",
    "LINE_STYLES = ['-', '--',  ':', '-.', '_' ]"
   ]
  },
  {
   "cell_type": "markdown",
   "metadata": {},
   "source": [
    "### $\\chi^2$-statistics sorted in descending order"
   ]
  },
  {
   "cell_type": "code",
   "execution_count": 20,
   "metadata": {},
   "outputs": [
    {
     "data": {
      "text/plain": [
       "Text(0.5, 0, 'Rank')"
      ]
     },
     "execution_count": 20,
     "metadata": {},
     "output_type": "execute_result"
    },
    {
     "data": {
      "image/png": "[encoded data removed]",
      "text/plain": [
       "<Figure size 504x504 with 1 Axes>"
      ]
     },
     "metadata": {
      "needs_background": "light"
     },
     "output_type": "display_data"
    }
   ],
   "source": [
    "fig, ax = plt.subplots(figsize=(7,7))\n",
    "ax.scatter(np.arange(len(snp_scores)), np.sort(snp_scores)[::-1], s=10, marker='x')\n",
    "ax.set_ylabel('$\\chi^2$-statistic')\n",
    "ax.set_xlabel('Rank')"
   ]
  },
  {
   "cell_type": "markdown",
   "metadata": {},
   "source": [
    "### Performance comparison of the DP mechanisms"
   ]
  },
  {
   "cell_type": "code",
   "execution_count": 25,
   "metadata": {},
   "outputs": [
    {
     "data": {
      "image/png": "[encoded data removed]",
      "text/plain": [
       "<Figure size 504x504 with 8 Axes>"
      ]
     },
     "metadata": {
      "needs_background": "light"
     },
     "output_type": "display_data"
    }
   ],
   "source": [
    "fig, ax_array = plt.subplots(len(PARAMS.MM_vec), len(PARAMS.sig_level_vec), \n",
    "                       sharex='col', sharey='row', figsize=(7,7))\n",
    "plt.subplots_adjust(left=0.1, right=0.9, top=0.9, bottom=0.1)\n",
    "for ii, MM in enumerate(PARAMS.MM_vec):\n",
    "    for jj, sig_level in enumerate(PARAMS.sig_level_vec):\n",
    "        ax = ax_array[ii, jj]\n",
    "        ax.set_xlim([0, np.max(PARAMS.epsilon_vec) + 5])\n",
    "        for kk, method in enumerate(perturb_result_utility):\n",
    "            xx = PARAMS.epsilon_vec\n",
    "            yy = list(map(perturb_result_utility[method][sig_level][MM].get, xx))\n",
    "            # ax.plot(xx, yy, color=MY_COLORS[kk % len(MY_COLORS)], label=method, \n",
    "            #         linestyle='-', marker=MARKERS[kk], markersize=5)\n",
    "            ax.plot(xx, yy, color=MY_COLORS[kk % len(MY_COLORS)], label=method, \n",
    "                    linestyle=LINE_STYLES[kk], linewidth=2.0, marker=MARKERS[kk], \n",
    "                    markersize=4.5, )\n",
    "        if ii == 0 and jj == 0:\n",
    "            # ax.set_ylabel('Proportion of significant SNPs recovered')\n",
    "            ax.legend(bbox_to_anchor=(0., 1.02, 1., .102), loc=3, ncol=3, \n",
    "                      prop={'size':8}, mode=\"tight\", borderaxespad=0.)            \n",
    "        if ii == 0:  # set column title on the first row\n",
    "            ## set title\n",
    "            ax.text(0.5, 1.25, \n",
    "                r'$p$-value=$\\frac{%s}{%s}$' % (str(sig_level), str(snp_num)),\n",
    "                horizontalalignment='center',\n",
    "                fontsize=\"large\",\n",
    "                transform=ax.transAxes)\n",
    "        if jj == len(PARAMS.sig_level_vec) - 1:  # set row title on the last column\n",
    "            ax.text(1.15, 0.5, 'M={}'.format(MM),\n",
    "                    horizontalalignment='center',\n",
    "                    verticalalignment='center',\n",
    "                    rotation=0,\n",
    "                    transform=ax.transAxes)\n",
    "        if ii == len(PARAMS.MM_vec) - 1 and jj == 0:\n",
    "            ax.set_ylabel('Utility')\n",
    "            ax.set_xlabel('Privacy budget ($\\epsilon$)')"
   ]
  },
  {
   "cell_type": "code",
   "execution_count": null,
   "metadata": {},
   "outputs": [],
   "source": []
  }
 ],
 "metadata": {
  "kernelspec": {
   "display_name": "Python 3",
   "language": "python",
   "name": "python3"
  },
  "language_info": {
   "codemirror_mode": {
    "name": "ipython",
    "version": 3
   },
   "file_extension": ".py",
   "mimetype": "text/x-python",
   "name": "python",
   "nbconvert_exporter": "python",
   "pygments_lexer": "ipython3",
   "version": "3.7.4"
  }
 },
 "nbformat": 4,
 "nbformat_minor": 1
}
